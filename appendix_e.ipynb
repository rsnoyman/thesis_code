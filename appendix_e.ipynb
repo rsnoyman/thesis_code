{
 "cells": [
  {
   "cell_type": "markdown",
   "metadata": {},
   "source": [
    "### Set Up"
   ]
  },
  {
   "cell_type": "code",
   "execution_count": 1,
   "metadata": {
    "id": "dTfIwUj4J5Gp"
   },
   "outputs": [],
   "source": [
    "import numpy as np\n",
    "from itertools import product"
   ]
  },
  {
   "cell_type": "markdown",
   "metadata": {
    "id": "JGqpDw4hZavc"
   },
   "source": [
    "### Helper functions to compute the kernel of a matrix over $\\mathbb{F}_2$"
   ]
  },
  {
   "cell_type": "markdown",
   "metadata": {},
   "source": [
    "The following function row reduces a matrix $M$ over $\\mathbb{F}_2$ to row-echelon form returns a list of coordinates corresponding to the leading columns of the row reduced matrix. "
   ]
  },
  {
   "cell_type": "code",
   "execution_count": 2,
   "metadata": {
    "id": "obHyxKuTi5SP"
   },
   "outputs": [],
   "source": [
    "def row_reduce(M):\n",
    "    # Keep track of which rows are complete\n",
    "    curr = 0\n",
    "    # Keep track of leading columns to complete row echelon form\n",
    "    leading_pos = []\n",
    "    \n",
    "    k, n = M.shape\n",
    "\n",
    "    for c in range(n):\n",
    "        # Search for the first 1 in the column\n",
    "        found = False\n",
    "        for r in range(curr, k):\n",
    "            if M[r][c] == 1:\n",
    "                # Bring row to the current level\n",
    "                if not found:\n",
    "                    M[[r, curr]] = M[[curr, r]]\n",
    "                    leading_pos.insert(0, (curr, c))\n",
    "                    found = True\n",
    "                # Use the found 1 to eliminate 1s below\n",
    "                else:\n",
    "                    M[r] =  (M[r] + M[curr]) % 2\n",
    "        \n",
    "        # If we found a 1 in the row, move on to the next row\n",
    "        if found:\n",
    "            curr += 1             \n",
    "    \n",
    "    # Reduce back up the columns to complete row echelon form\n",
    "    for r, c in leading_pos:\n",
    "        for i in range(r):\n",
    "            if M[i][c] == 1:\n",
    "                M[i] = (M[i] + M[r]) % 2\n",
    "\n",
    "    return leading_pos"
   ]
  },
  {
   "cell_type": "markdown",
   "metadata": {},
   "source": [
    "The following function implements an efficient algorithm to find the kernel of of a matrix $M$ over $\\mathbb{F}_2$. This function returns the (finite) set of all vectors in the kernel.\n",
    "\n",
    "Given a $k\\times n$ matrix $M$ of rank $k$, express it in row-echelon form, interchange columns and rows as needed to express the matrix in the form $[I_{k\\times k} | Q]$ where $Q$ is a $k\\times(n-k)$ matrix. Form the matrix $K = [Q^T | I_{(n-k)\\times (n-k)}]$. Now undo the column permutations to get the basis vectors for kernel of $M$. "
   ]
  },
  {
   "cell_type": "code",
   "execution_count": 3,
   "metadata": {
    "id": "Zv9TfcNvEUQe"
   },
   "outputs": [],
   "source": [
    "def kernel(M):\n",
    "    # Begin with the row reduction\n",
    "    leading_pos = row_reduce(M)\n",
    "    \n",
    "    # Drop all zero rows\n",
    "    M = np.array([row for row in M if not all(row == 0)])\n",
    "    \n",
    "    k, n = M.shape\n",
    "\n",
    "    # Column order\n",
    "    cols = np.array(range(n))\n",
    "\n",
    "    M = M.T\n",
    "    # Move leading column to row position\n",
    "    for r, c in reversed(leading_pos):\n",
    "        M[[c, r]] = M[[r, c]]\n",
    "        cols[c], cols[r] = cols[r], cols[c]\n",
    "\n",
    "    Q = M[k:]\n",
    "    K = np.concatenate((Q.T, np.eye(n-k, dtype = int)))\n",
    "\n",
    "    # Reshuffle the columns to original order\n",
    "    # B is a basis for kernel\n",
    "    B = K[cols.argsort()].T\n",
    "\n",
    "    # Entire kernel\n",
    "    S = [list((B.T @ x) % 2) for x in product([0,1], repeat=n-k)]\n",
    "    return S"
   ]
  },
  {
   "cell_type": "markdown",
   "metadata": {},
   "source": [
    "Set seed for reproducibility. "
   ]
  },
  {
   "cell_type": "code",
   "execution_count": 4,
   "metadata": {},
   "outputs": [],
   "source": [
    "np.random.seed(2)"
   ]
  },
  {
   "cell_type": "markdown",
   "metadata": {
    "id": "Ln6BHUWH_4Kg"
   },
   "source": [
    "### Bob receives the matrix $P$ from Alice."
   ]
  },
  {
   "cell_type": "code",
   "execution_count": 5,
   "metadata": {
    "colab": {
     "base_uri": "https://localhost:8080/",
     "height": 255
    },
    "id": "mU8OJmVIKbF5",
    "outputId": "1dd8a18b-fd6b-4ef8-e5c1-143b1f45d856"
   },
   "outputs": [],
   "source": [
    "P = np.array([[0, 1, 1, 0, 0],\n",
    "              [0, 1, 0, 0, 1],\n",
    "              [1, 0, 1, 1, 1],\n",
    "              [1, 1, 0, 0, 1],\n",
    "              [0, 0, 0, 1, 0],\n",
    "              [1, 0, 0, 1, 0],\n",
    "              [0, 0, 1, 1, 1],\n",
    "              [1, 1, 0, 1, 1],\n",
    "              [1, 0, 0, 0, 0],\n",
    "              [0, 1, 1, 1, 0],\n",
    "              [1, 1, 0, 1, 0],\n",
    "              [0, 0, 0, 0, 1],\n",
    "              [0, 0, 1, 0, 0],\n",
    "              [0, 1, 0, 1, 1]])\n",
    "\n",
    "n = P.shape[1]"
   ]
  },
  {
   "cell_type": "markdown",
   "metadata": {},
   "source": [
    "### Bob runs Kahanamoku-Meyer's algorithm to reveal the secret codeword s"
   ]
  },
  {
   "cell_type": "markdown",
   "metadata": {
    "id": "fqihoXgP_tok"
   },
   "source": [
    "Pick $\\textbf{d} \\in \\mathbb{F}_2^n$ non-zero uniformly at random."
   ]
  },
  {
   "cell_type": "code",
   "execution_count": 6,
   "metadata": {
    "colab": {
     "base_uri": "https://localhost:8080/",
     "height": 34
    },
    "id": "Ef5F3QNQLtug",
    "outputId": "3b48ec20-019f-4307-e1a9-915e67a1a947"
   },
   "outputs": [
    {
     "name": "stdout",
     "output_type": "stream",
     "text": [
      "[0 1 1 0 0]\n"
     ]
    }
   ],
   "source": [
    "d = np.random.randint(0, 2, n)\n",
    "print(d)"
   ]
  },
  {
   "cell_type": "markdown",
   "metadata": {
    "id": "a5p2Nf1m_we5"
   },
   "source": [
    "Generate a large number (say $3n$) of vectors $\\textbf{m}_i$, forming the rows of a matrix $M$. For each:\n",
    "\n",
    "(i) Pick $\\textbf{e} \\in \\mathbb{F}_2^n$ non-zero uniformly at random.\n",
    "\n",
    "(ii) Let $\\textbf{m}_i = \\sum_{\\substack{\\textbf{p}\\in P\\\\ \\textbf{p}\\cdot\\textbf{d} = \\textbf{p}\\cdot\\textbf{e} = 1}} \\textbf{p}$"
   ]
  },
  {
   "cell_type": "code",
   "execution_count": 7,
   "metadata": {
    "colab": {
     "base_uri": "https://localhost:8080/",
     "height": 187
    },
    "id": "en6uXxGxMx7E",
    "outputId": "734db306-5c0a-40eb-9b8b-8dbc52a257f6"
   },
   "outputs": [
    {
     "name": "stdout",
     "output_type": "stream",
     "text": [
      "[[0 1 0 1 1]\n",
      " [0 0 1 0 0]\n",
      " [0 0 0 0 1]\n",
      " [1 1 1 1 0]\n",
      " [0 1 0 1 0]\n",
      " [1 0 1 0 1]\n",
      " [1 0 1 0 0]\n",
      " [0 1 0 1 0]\n",
      " [1 0 1 0 1]\n",
      " [0 1 0 1 1]\n",
      " [1 1 0 1 0]\n",
      " [1 0 0 0 1]\n",
      " [1 1 1 1 1]\n",
      " [0 0 0 0 1]]\n"
     ]
    }
   ],
   "source": [
    "M = []\n",
    "for _ in range(3*n):\n",
    "    e = np.random.randint(0, 2, n)\n",
    "    \n",
    "    rows_to_sum = [p for p in P if e.dot(p)%2 == 1 and d.dot(p)%2 == 1]\n",
    "    if not rows_to_sum:\n",
    "        continue\n",
    "    \n",
    "    m_i = sum(rows_to_sum)\n",
    "    M.append(m_i % 2)\n",
    "\n",
    "M = np.array(M)\n",
    "print(M)"
   ]
  },
  {
   "cell_type": "markdown",
   "metadata": {},
   "source": [
    "Find the kernel of $M$."
   ]
  },
  {
   "cell_type": "code",
   "execution_count": 8,
   "metadata": {
    "colab": {
     "base_uri": "https://localhost:8080/",
     "height": 34
    },
    "id": "htGGDhE_qi-a",
    "outputId": "d16c32d1-5ca5-44e5-88ef-2f12cb3cbcd6"
   },
   "outputs": [
    {
     "name": "stdout",
     "output_type": "stream",
     "text": [
      "[[0, 0, 0, 0, 0], [0, 1, 0, 1, 0]]\n"
     ]
    }
   ],
   "source": [
    "S = kernel(M)\n",
    "print(S)"
   ]
  },
  {
   "cell_type": "markdown",
   "metadata": {
    "id": "l2-DA195uKgH"
   },
   "source": [
    "For each candidate vector $\\textbf{s}_i$:\n",
    "\n",
    "(i) Extract $P_{\\textbf{s}_i}$ from $P$ be deleting all rows of $P$ orthogonal to $\\textbf{s}_i$.\n",
    "\n",
    "(ii) Check if $P_{\\textbf{s}_i}$ generates a quadratic residue code by checking codeword weights.\n",
    "\n"
   ]
  },
  {
   "cell_type": "code",
   "execution_count": 9,
   "metadata": {
    "colab": {
     "base_uri": "https://localhost:8080/",
     "height": 34
    },
    "id": "JgH-MK6PeIR0",
    "outputId": "e2cdade9-424e-4926-d29a-f7b1a80738b9"
   },
   "outputs": [
    {
     "name": "stdout",
     "output_type": "stream",
     "text": [
      "[0, 1, 0, 1, 0]\n"
     ]
    }
   ],
   "source": [
    "for s in S:\n",
    "    # Submatrix potentially generating a quadratic residue code\n",
    "    P_s = np.array([p for p in P if p.dot(s) % 2 == 1])\n",
    "    \n",
    "    if P_s.size == 0:\n",
    "        continue\n",
    "\n",
    "    # Compute explicitly the code generated by the matrix P_s\n",
    "    C = {tuple((P_s @ x) % 2) for x in product([0,1], repeat=n)}\n",
    "    \n",
    "    # Check codeword weights\n",
    "    if all(sum(c) % 4 in [0,3] for c in C):\n",
    "        print(s)\n",
    "        break"
   ]
  },
  {
   "cell_type": "markdown",
   "metadata": {},
   "source": [
    "Pow! We have found Alice's secret codeword."
   ]
  }
 ],
 "metadata": {
  "colab": {
   "collapsed_sections": [],
   "name": "Forging Quantum Data.ipynb",
   "provenance": [],
   "toc_visible": true
  },
  "kernelspec": {
   "display_name": "Python 3",
   "language": "python",
   "name": "python3"
  },
  "language_info": {
   "codemirror_mode": {
    "name": "ipython",
    "version": 3
   },
   "file_extension": ".py",
   "mimetype": "text/x-python",
   "name": "python",
   "nbconvert_exporter": "python",
   "pygments_lexer": "ipython3",
   "version": "3.7.6"
  }
 },
 "nbformat": 4,
 "nbformat_minor": 1
}
