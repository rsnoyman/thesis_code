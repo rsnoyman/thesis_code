{
 "cells": [
  {
   "cell_type": "markdown",
   "metadata": {},
   "source": [
    "$\\textbf{Set Up}$"
   ]
  },
  {
   "cell_type": "code",
   "execution_count": 1,
   "metadata": {
    "id": "kbJ37NcrZGgv"
   },
   "outputs": [],
   "source": [
    "import numpy as np\n",
    "import cirq"
   ]
  },
  {
   "cell_type": "markdown",
   "metadata": {},
   "source": [
    "$\\textbf{Bob receives the matrix $P$ along with the choice of $\\theta = \\frac{\\pi}{8}$ from Alice.}$"
   ]
  },
  {
   "cell_type": "code",
   "execution_count": 2,
   "metadata": {
    "id": "hcYjltezZGg4"
   },
   "outputs": [],
   "source": [
    "P = np.array([[0, 1, 1, 0, 0],\n",
    "              [0, 1, 0, 0, 1],\n",
    "              [1, 0, 1, 1, 1],\n",
    "              [1, 1, 0, 0, 1],\n",
    "              [0, 0, 0, 1, 0],\n",
    "              [1, 0, 0, 1, 0],\n",
    "              [0, 0, 1, 1, 1],\n",
    "              [1, 1, 0, 1, 1],\n",
    "              [1, 0, 0, 0, 0],\n",
    "              [0, 1, 1, 1, 0],\n",
    "              [1, 1, 0, 1, 0],\n",
    "              [0, 0, 0, 0, 1],\n",
    "              [0, 0, 1, 0, 0],\n",
    "              [0, 1, 0, 1, 1]])\n",
    "\n",
    "n = P.shape[1]\n",
    "theta = np.pi/8"
   ]
  },
  {
   "cell_type": "markdown",
   "metadata": {},
   "source": [
    "$\\textbf{Bob constructs the circuit corresponding to Alice's $X$-Program description.}$"
   ]
  },
  {
   "cell_type": "markdown",
   "metadata": {},
   "source": [
    "Initialise a circuit with $n$ qubits."
   ]
  },
  {
   "cell_type": "code",
   "execution_count": 3,
   "metadata": {},
   "outputs": [],
   "source": [
    "qubits = cirq.LineQubit.range(n)\n",
    "circuit = cirq.Circuit()"
   ]
  },
  {
   "cell_type": "markdown",
   "metadata": {},
   "source": [
    "Perform a change of basis to the diagonal basis by applying Hardamard $H$ gates to each qubit."
   ]
  },
  {
   "cell_type": "code",
   "execution_count": 4,
   "metadata": {},
   "outputs": [],
   "source": [
    "circuit.append(cirq.H(q) for q in qubits)"
   ]
  },
  {
   "cell_type": "markdown",
   "metadata": {},
   "source": [
    "For each term of the $X$-Program, construct the corresponding block recursively. "
   ]
  },
  {
   "cell_type": "code",
   "execution_count": 5,
   "metadata": {
    "colab": {
     "base_uri": "https://localhost:8080/",
     "height": 190
    },
    "id": "lDXB6wGvZGhO",
    "outputId": "ffa3208a-ffeb-45fe-8e18-bf46451d24c6"
   },
   "outputs": [],
   "source": [
    "def x_program_block(Xs):\n",
    "    if len(Xs) == 1:\n",
    "        yield cirq.rz(theta)(Xs[0])\n",
    "    else:\n",
    "        yield cirq.CNOT(Xs[0], Xs[1])\n",
    "        yield x_program_block(Xs[1:])\n",
    "        yield cirq.CNOT(Xs[0], Xs[1])\n",
    "        \n",
    "for row in P:\n",
    "    Xs = [qubits[i] for i, b in enumerate(row) if b == 1]\n",
    "    circuit.append(x_program_block(Xs), strategy=cirq.InsertStrategy.NEW_THEN_INLINE)"
   ]
  },
  {
   "cell_type": "markdown",
   "metadata": {},
   "source": [
    "Change back to the computational basis by applying an $H$ gate to each qubit. Then perform a measurement. "
   ]
  },
  {
   "cell_type": "code",
   "execution_count": 6,
   "metadata": {},
   "outputs": [],
   "source": [
    "circuit.append(cirq.H(q) for q in qubits)\n",
    "circuit.append(cirq.measure(*qubits, key='x'))"
   ]
  },
  {
   "cell_type": "markdown",
   "metadata": {},
   "source": [
    "$\\textbf{Bob runs the circuit, producing a number of samples to send to Alice for verification.}$"
   ]
  },
  {
   "cell_type": "code",
   "execution_count": 7,
   "metadata": {
    "colab": {
     "base_uri": "https://localhost:8080/",
     "height": 510
    },
    "id": "6sJI-Uxr9NJX",
    "outputId": "6f7551b2-08c2-4d52-a908-a03bc366d091"
   },
   "outputs": [
    {
     "data": {
      "text/plain": [
       "{(0, 0, 0, 0, 0): 609,\n",
       " (0, 0, 0, 0, 1): 15,\n",
       " (0, 0, 0, 1, 0): 16,\n",
       " (0, 0, 0, 1, 1): 11,\n",
       " (0, 0, 1, 0, 0): 14,\n",
       " (0, 0, 1, 0, 1): 24,\n",
       " (0, 0, 1, 1, 0): 4,\n",
       " (0, 0, 1, 1, 1): 8,\n",
       " (0, 1, 0, 0, 0): 6,\n",
       " (0, 1, 0, 0, 1): 14,\n",
       " (0, 1, 0, 1, 0): 11,\n",
       " (0, 1, 0, 1, 1): 20,\n",
       " (0, 1, 1, 0, 0): 21,\n",
       " (0, 1, 1, 0, 1): 10,\n",
       " (0, 1, 1, 1, 0): 13,\n",
       " (0, 1, 1, 1, 1): 3,\n",
       " (1, 0, 0, 0, 0): 22,\n",
       " (1, 0, 0, 0, 1): 4,\n",
       " (1, 0, 0, 1, 0): 10,\n",
       " (1, 0, 0, 1, 1): 9,\n",
       " (1, 0, 1, 0, 0): 2,\n",
       " (1, 0, 1, 0, 1): 13,\n",
       " (1, 0, 1, 1, 0): 2,\n",
       " (1, 0, 1, 1, 1): 13,\n",
       " (1, 1, 0, 0, 0): 5,\n",
       " (1, 1, 0, 0, 1): 22,\n",
       " (1, 1, 0, 1, 0): 19,\n",
       " (1, 1, 0, 1, 1): 33,\n",
       " (1, 1, 1, 0, 0): 17,\n",
       " (1, 1, 1, 0, 1): 3,\n",
       " (1, 1, 1, 1, 0): 23,\n",
       " (1, 1, 1, 1, 1): 4}"
      ]
     },
     "execution_count": 7,
     "metadata": {},
     "output_type": "execute_result"
    }
   ],
   "source": [
    "simulator = cirq.Simulator()\n",
    "results = simulator.run(circuit, repetitions=1000).histogram(key='x')\n",
    "\n",
    "def binary_vector(i, n):\n",
    "    return [int(b) for b in bin(i)[2:].zfill(n)]\n",
    "\n",
    "samples = {tuple(binary_vector(i, n)):results[i] for i in range(2**n)}\n",
    "\n",
    "samples"
   ]
  },
  {
   "cell_type": "markdown",
   "metadata": {},
   "source": [
    "$\\textbf{Alice now verifies that Bob's samples have the correct bias in the direction of the secret codeword s}.$"
   ]
  },
  {
   "cell_type": "code",
   "execution_count": 8,
   "metadata": {
    "colab": {
     "base_uri": "https://localhost:8080/",
     "height": 34
    },
    "id": "wowdQFdSVp7K",
    "outputId": "3d1ac9bd-52c3-4857-fe79-8fa8e2d7cb40"
   },
   "outputs": [
    {
     "name": "stdout",
     "output_type": "stream",
     "text": [
      "{'orthogonal': 829, 'non-orthogonal': 171}\n"
     ]
    }
   ],
   "source": [
    "s = np.array([0, 1, 0, 1, 0])\n",
    "\n",
    "bias = {\n",
    "    'orthogonal': 0,\n",
    "    'non-orthogonal': 0\n",
    "}\n",
    "\n",
    "for sample, count in samples.items():\n",
    "    if s.dot(sample) % 2 == 0:\n",
    "        bias['orthogonal'] += count\n",
    "    else:\n",
    "        bias['non-orthogonal'] += count\n",
    "\n",
    "print(bias)"
   ]
  },
  {
   "cell_type": "markdown",
   "metadata": {},
   "source": [
    "$82.9\\%$ of Bob's samples are orthogonal to Alice's secert codeword. After performing an appropriate hypothesis test, Alice is satisfied that Bob has a quantum computer. "
   ]
  }
 ],
 "metadata": {
  "colab": {
   "collapsed_sections": [],
   "name": "Bob's Quantum Circuit Interpretation.ipynb",
   "provenance": []
  },
  "kernelspec": {
   "display_name": "Python 3",
   "language": "python",
   "name": "python3"
  },
  "language_info": {
   "codemirror_mode": {
    "name": "ipython",
    "version": 3
   },
   "file_extension": ".py",
   "mimetype": "text/x-python",
   "name": "python",
   "nbconvert_exporter": "python",
   "pygments_lexer": "ipython3",
   "version": "3.7.7"
  }
 },
 "nbformat": 4,
 "nbformat_minor": 1
}
