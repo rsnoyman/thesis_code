{
 "cells": [
  {
   "cell_type": "markdown",
   "metadata": {},
   "source": [
    "# Alice's $X$-Program"
   ]
  },
  {
   "cell_type": "markdown",
   "metadata": {},
   "source": [
    "### Set up"
   ]
  },
  {
   "cell_type": "code",
   "execution_count": 1,
   "metadata": {
    "colab": {},
    "colab_type": "code",
    "id": "b9glsmOJRHdj"
   },
   "outputs": [],
   "source": [
    "import numpy as np\n",
    "from random import sample, seed"
   ]
  },
  {
   "cell_type": "markdown",
   "metadata": {},
   "source": [
    "Set seed for reproducibility."
   ]
  },
  {
   "cell_type": "code",
   "execution_count": 2,
   "metadata": {},
   "outputs": [],
   "source": [
    "seed(0)"
   ]
  },
  {
   "cell_type": "markdown",
   "metadata": {},
   "source": [
    "This is a helper function to convert an integer $i$ to the list of length $n$ correspionding to the binary expansion of $i$. This enables us to efficiently sample a set of distinct binary vectors."
   ]
  },
  {
   "cell_type": "code",
   "execution_count": 3,
   "metadata": {},
   "outputs": [],
   "source": [
    "def binary_vector(i, n):\n",
    "    return [int(b) for b in bin(i)[2:].zfill(n)]"
   ]
  },
  {
   "cell_type": "markdown",
   "metadata": {},
   "source": [
    "### Construct the generator matrix for a quadratic residue code."
   ]
  },
  {
   "cell_type": "markdown",
   "metadata": {
    "colab_type": "text",
    "id": "TcAupa_KRHdo"
   },
   "source": [
    "Select a prime $q$ such that $q+1$ is divisible by $8$."
   ]
  },
  {
   "cell_type": "code",
   "execution_count": 4,
   "metadata": {
    "colab": {},
    "colab_type": "code",
    "id": "1dRvcWTfRHdt"
   },
   "outputs": [],
   "source": [
    "q = 7"
   ]
  },
  {
   "cell_type": "markdown",
   "metadata": {},
   "source": [
    "The rank of the code is $\\frac{q+1}{2}$."
   ]
  },
  {
   "cell_type": "code",
   "execution_count": 5,
   "metadata": {},
   "outputs": [],
   "source": [
    "r = (q+1)//2"
   ]
  },
  {
   "cell_type": "markdown",
   "metadata": {
    "colab_type": "text",
    "id": "5PL90HwqRHdx"
   },
   "source": [
    "Find the quadratic residues modulo $q$."
   ]
  },
  {
   "cell_type": "code",
   "execution_count": 6,
   "metadata": {
    "colab": {
     "base_uri": "https://localhost:8080/",
     "height": 34
    },
    "colab_type": "code",
    "id": "ZrABwZmlRHdx",
    "outputId": "78a3012d-94c0-4b3a-a042-e6305fec6014",
    "tags": []
   },
   "outputs": [
    {
     "name": "stdout",
     "output_type": "stream",
     "text": [
      "{1, 2, 4}\n"
     ]
    }
   ],
   "source": [
    "residues = {(j**2) % q for j in range(1, q)}\n",
    "print(residues)"
   ]
  },
  {
   "cell_type": "markdown",
   "metadata": {},
   "source": [
    "Create the generator corresponding to $g(x)$."
   ]
  },
  {
   "cell_type": "code",
   "execution_count": 7,
   "metadata": {
    "colab": {
     "base_uri": "https://localhost:8080/",
     "height": 34
    },
    "colab_type": "code",
    "id": "Hgc1G_TRRHd0",
    "outputId": "8a133cb1-0c18-462b-a092-12b5bddb0f45",
    "tags": []
   },
   "outputs": [
    {
     "name": "stdout",
     "output_type": "stream",
     "text": [
      "[1 1 0 1 0 0 0]\n"
     ]
    }
   ],
   "source": [
    "generator = np.array([1 if j in residues else 0 for j in range(1, q+1)])\n",
    "print(generator)"
   ]
  },
  {
   "cell_type": "markdown",
   "metadata": {},
   "source": [
    "Create the generator matrix $P_\\textbf{s}$ by applying cyclic shifts to the generator.\n"
   ]
  },
  {
   "cell_type": "code",
   "execution_count": 8,
   "metadata": {
    "colab": {
     "base_uri": "https://localhost:8080/",
     "height": 102
    },
    "colab_type": "code",
    "id": "kskTqA0RRHd4",
    "outputId": "48a43d8f-1a54-460a-ee90-c11e1599bada",
    "tags": []
   },
   "outputs": [
    {
     "name": "stdout",
     "output_type": "stream",
     "text": [
      "[[1 0 0 0]\n",
      " [1 1 0 0]\n",
      " [0 1 1 0]\n",
      " [1 0 1 1]\n",
      " [0 1 0 1]\n",
      " [0 0 1 0]\n",
      " [0 0 0 1]]\n"
     ]
    }
   ],
   "source": [
    "P_s = np.array([np.roll(generator, j) for j in range(r)])\n",
    "print(P_s.T)"
   ]
  },
  {
   "cell_type": "markdown",
   "metadata": {
    "colab_type": "text",
    "id": "3swB7w2gRHd_"
   },
   "source": [
    "### Generate the secret codeword $\\textbf{s}$ and hide the generator matrix $P_\\textbf{s}$ in a larger matrix $P$."
   ]
  },
  {
   "cell_type": "markdown",
   "metadata": {},
   "source": [
    "Append all ones vector to columns of $P_\\textbf{s}$.\n"
   ]
  },
  {
   "cell_type": "code",
   "execution_count": 9,
   "metadata": {},
   "outputs": [
    {
     "name": "stdout",
     "output_type": "stream",
     "text": [
      "[[1 1 0 0 0]\n",
      " [1 1 1 0 0]\n",
      " [1 0 1 1 0]\n",
      " [1 1 0 1 1]\n",
      " [1 0 1 0 1]\n",
      " [1 0 0 1 0]\n",
      " [1 0 0 0 1]]\n"
     ]
    }
   ],
   "source": [
    "ones_codeword = [np.ones(q, dtype=int)]\n",
    "P_s = np.concatenate((ones_codeword, P_s))\n",
    "print(P_s.T)"
   ]
  },
  {
   "cell_type": "markdown",
   "metadata": {},
   "source": [
    "Initialise secret codeword $\\textbf{s} = (1, 0, \\dots, 0)$."
   ]
  },
  {
   "cell_type": "code",
   "execution_count": 10,
   "metadata": {},
   "outputs": [
    {
     "name": "stdout",
     "output_type": "stream",
     "text": [
      "[1, 0, 0, 0, 0]\n"
     ]
    }
   ],
   "source": [
    "s = [1] + [0]*r\n",
    "print(s)"
   ]
  },
  {
   "cell_type": "markdown",
   "metadata": {},
   "source": [
    "Add $q$ random rows, orthogonal to $\\textbf{s}$. We ensure orthogonality by padding each row with an extra 0."
   ]
  },
  {
   "cell_type": "code",
   "execution_count": 11,
   "metadata": {},
   "outputs": [
    {
     "name": "stdout",
     "output_type": "stream",
     "text": [
      "[[1 1 0 0 0]\n",
      " [1 1 1 0 0]\n",
      " [1 0 1 1 0]\n",
      " [1 1 0 1 1]\n",
      " [1 0 1 0 1]\n",
      " [1 0 0 1 0]\n",
      " [1 0 0 0 1]\n",
      " [0 1 1 1 0]\n",
      " [0 0 1 1 1]\n",
      " [0 1 1 0 1]\n",
      " [0 1 1 1 1]\n",
      " [0 0 0 0 1]\n",
      " [0 0 1 0 1]\n",
      " [0 1 0 0 1]]\n"
     ]
    }
   ],
   "source": [
    "orthogonal_rows = [binary_vector(i, r+1) for i in sample(range(1, 2**r), q)]\n",
    "P = np.column_stack((P_s, *orthogonal_rows))\n",
    "print(P.T)"
   ]
  },
  {
   "cell_type": "markdown",
   "metadata": {},
   "source": [
    "Apply random column operations to $P$ to hide the submatrix $P_\\textbf{s}$."
   ]
  },
  {
   "cell_type": "code",
   "execution_count": 12,
   "metadata": {},
   "outputs": [],
   "source": [
    "for _ in range(3*q):\n",
    "    # Sample distinct row numbers\n",
    "    i,j = sample(range(r+1), k=2)\n",
    "    \n",
    "    # Add row j to row i\n",
    "    P[i] = (P[i] + P[j]) % 2\n",
    "    \n",
    "    # Adjust s correspondingly\n",
    "    s[j] = (s[i] + s[j]) % 2 "
   ]
  },
  {
   "cell_type": "markdown",
   "metadata": {},
   "source": [
    "$P$ is sent to Bob."
   ]
  },
  {
   "cell_type": "code",
   "execution_count": 15,
   "metadata": {},
   "outputs": [
    {
     "name": "stdout",
     "output_type": "stream",
     "text": [
      "[[0 1 1 0 0]\n",
      " [0 1 0 0 1]\n",
      " [1 0 1 1 1]\n",
      " [1 1 0 0 1]\n",
      " [0 0 0 1 0]\n",
      " [1 0 0 1 0]\n",
      " [0 0 1 1 1]\n",
      " [1 1 0 1 1]\n",
      " [1 0 0 0 0]\n",
      " [0 1 1 1 0]\n",
      " [1 1 0 1 0]\n",
      " [0 0 0 0 1]\n",
      " [0 0 1 0 0]\n",
      " [0 1 0 1 1]]\n"
     ]
    }
   ],
   "source": [
    "print(P.T)"
   ]
  },
  {
   "cell_type": "markdown",
   "metadata": {},
   "source": [
    "Alice's keeps her secret codeword $\\textbf{s}$ safe!"
   ]
  },
  {
   "cell_type": "code",
   "execution_count": 14,
   "metadata": {},
   "outputs": [
    {
     "name": "stdout",
     "output_type": "stream",
     "text": [
      "[0, 1, 0, 1, 0]\n"
     ]
    }
   ],
   "source": [
    "print(s)"
   ]
  }
 ],
 "metadata": {
  "colab": {
   "name": "Alice's Quadratic Residue Code.ipynb",
   "provenance": [],
   "toc_visible": true
  },
  "kernelspec": {
   "display_name": "Python 3",
   "language": "python",
   "name": "python3"
  },
  "language_info": {
   "codemirror_mode": {
    "name": "ipython",
    "version": 3
   },
   "file_extension": ".py",
   "mimetype": "text/x-python",
   "name": "python",
   "nbconvert_exporter": "python",
   "pygments_lexer": "ipython3",
   "version": "3.7.6"
  }
 },
 "nbformat": 4,
 "nbformat_minor": 1
}
